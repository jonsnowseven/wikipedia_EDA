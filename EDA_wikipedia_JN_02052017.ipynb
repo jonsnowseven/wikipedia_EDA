{
 "cells": [
  {
   "cell_type": "markdown",
   "metadata": {},
   "source": [
    "# Wikipedia Events Analysis"
   ]
  },
  {
   "cell_type": "markdown",
   "metadata": {},
   "source": [
    "## From João Neves\n",
    "joao.neves\\_at\\_marionete.co.uk"
   ]
  },
  {
   "cell_type": "markdown",
   "metadata": {},
   "source": [
    "Wikipedia is the world's largest (free) encyclopedia. Since 2001, Wikipedia has fed the users with the knowledge they needed.\n",
    "\n",
    "To manage this information, someone must fill it in, since Wikipedia is accessible and can be editable by everyone (although there are some protected pages as stated by [Editing](https://en.wikipedia.org/wiki/Help:Editing)).\n",
    "\n",
    "Being a worldwide platform, there are a lot of events involving Wikipedia editions, creations, etc. The data in Websocket [ws://wikimon.hatnote.com:9000](ws://wikimon.hatnote.com:9000) provides a lot of metadata about Wikipedia events. Through this data, we can analyse (for instance) what are the users doing and where from, what kind of entities mess with Wikipedia, how the users describe what are they doing... So let's do that!"
   ]
  },
  {
   "cell_type": "code",
   "execution_count": 45,
   "metadata": {
    "scrolled": true
   },
   "outputs": [],
   "source": [
    "from websocket import create_connection\n",
    "import warnings\n",
    "warnings.filterwarnings('ignore')\n",
    "import json\n",
    "import time\n",
    "import numpy as np\n",
    "import pandas as pd\n",
    "import matplotlib as mpl\n",
    "import matplotlib.pyplot as plt\n",
    "import seaborn as sns\n",
    "import pickle\n",
    "import re\n",
    "import gensim\n",
    "import random\n",
    "\n",
    "%matplotlib inline"
   ]
  },
  {
   "cell_type": "markdown",
   "metadata": {},
   "source": [
    "Read data from the websocket...! \n",
    "\n",
    "**Note**: the data was previously generated and saved for replication purposes."
   ]
  },
  {
   "cell_type": "code",
   "execution_count": 2,
   "metadata": {
    "collapsed": true
   },
   "outputs": [],
   "source": [
    "# wikivents_list = list()\n",
    "\n",
    "# num_minutes = 600\n",
    "\n",
    "# t_end = time.time() + num_minutes*60 #run for n x 60 seconds\n",
    "# ws = create_connection(\"ws://wikimon.hatnote.com:9000\")\n",
    "\n",
    "# while time.time() < t_end:\n",
    "#     wikivents_list.append((get_current_date(),ws.recv())) #interested in time of event\n",
    "    \n",
    "# print(get_current_date())\n",
    "\n",
    "# print(\"Collected: {} events.\".format(len(wikivents_list)))\n",
    "\n",
    "# with open(\"wikimon_data.pkl\",\"wb\") as f:\n",
    "#     pickle.dump(wikivents_list,f)\n",
    "\n",
    "with open(\"wikimon_data.pkl\",\"rb\") as f:\n",
    "    wikivents_list = pickle.load(f)"
   ]
  },
  {
   "cell_type": "markdown",
   "metadata": {},
   "source": [
    "# Create the dataframe"
   ]
  },
  {
   "cell_type": "markdown",
   "metadata": {},
   "source": [
    "Let's parse the *jsons* and create a dataframe from the data."
   ]
  },
  {
   "cell_type": "code",
   "execution_count": 3,
   "metadata": {},
   "outputs": [],
   "source": [
    "wikivents_list_parsed = map(lambda (date, data): json.loads(data),wikivents_list)\n",
    "wikivents_df = pd.DataFrame(wikivents_list_parsed)"
   ]
  },
  {
   "cell_type": "markdown",
   "metadata": {},
   "source": [
    "Here we have a sample of the (final) data."
   ]
  },
  {
   "cell_type": "code",
   "execution_count": 4,
   "metadata": {},
   "outputs": [
    {
     "name": "stdout",
     "output_type": "stream",
     "text": [
      "[u'action' u'change_size' u'flags' u'geo_ip' u'hashtags' u'is_anon'\n",
      " u'is_bot' u'is_minor' u'is_new' u'is_unpatrolled' u'mentions' u'ns'\n",
      " u'page_title' u'parent_rev_id' u'rev_id' u'summary' u'url' u'user']\n"
     ]
    },
    {
     "data": {
      "text/html": [
       "<div>\n",
       "<table border=\"1\" class=\"dataframe\">\n",
       "  <thead>\n",
       "    <tr style=\"text-align: right;\">\n",
       "      <th></th>\n",
       "      <th>action</th>\n",
       "      <th>change_size</th>\n",
       "      <th>is_bot</th>\n",
       "      <th>page_title</th>\n",
       "    </tr>\n",
       "  </thead>\n",
       "  <tbody>\n",
       "    <tr>\n",
       "      <th>8915</th>\n",
       "      <td>edit</td>\n",
       "      <td>-147.0</td>\n",
       "      <td>False</td>\n",
       "      <td>LIBOR market model</td>\n",
       "    </tr>\n",
       "  </tbody>\n",
       "</table>\n",
       "</div>"
      ],
      "text/plain": [
       "     action  change_size is_bot          page_title\n",
       "8915   edit       -147.0  False  LIBOR market model"
      ]
     },
     "execution_count": 4,
     "metadata": {},
     "output_type": "execute_result"
    }
   ],
   "source": [
    "print wikivents_df.columns.values\n",
    "wikivents_df.sample(n=1)[['action', 'change_size', 'is_bot', 'page_title']]"
   ]
  },
  {
   "cell_type": "markdown",
   "metadata": {},
   "source": [
    "In the sample above, we see that we have several features related to **Wikipedia events**. We have the page title, the url, the change size, some flags related to the type of event (anonymous, if it was a bot, ...)."
   ]
  },
  {
   "cell_type": "markdown",
   "metadata": {},
   "source": [
    "## Parse geo_ip json\n",
    "*Location* field is a *json*. Here we will expand it and concatenate it to the main Dataframe."
   ]
  },
  {
   "cell_type": "code",
   "execution_count": 5,
   "metadata": {},
   "outputs": [],
   "source": [
    "#convert non null locations to dataframe\n",
    "not_null_geoip = wikivents_df[\"geo_ip\"].notnull()\n",
    "location_df = pd.DataFrame(wikivents_df[\"geo_ip\"][not_null_geoip].tolist())\n",
    "\n",
    "#index of wikis that have location\n",
    "indexes = pd.Series(wikivents_df[\"geo_ip\"][not_null_geoip].index.values)\n",
    "location_df = location_df.set_index(indexes)"
   ]
  },
  {
   "cell_type": "code",
   "execution_count": 6,
   "metadata": {
    "collapsed": true
   },
   "outputs": [],
   "source": [
    "#join both and drop column\n",
    "wikivents_df = pd.concat([wikivents_df, location_df],axis = 1).drop('geo_ip', 1)"
   ]
  },
  {
   "cell_type": "code",
   "execution_count": 7,
   "metadata": {},
   "outputs": [
    {
     "data": {
      "text/html": [
       "<div>\n",
       "<table border=\"1\" class=\"dataframe\">\n",
       "  <thead>\n",
       "    <tr style=\"text-align: right;\">\n",
       "      <th></th>\n",
       "      <th>user</th>\n",
       "      <th>city</th>\n",
       "      <th>country_name</th>\n",
       "      <th>longitude</th>\n",
       "      <th>latitude</th>\n",
       "      <th>region_name</th>\n",
       "    </tr>\n",
       "  </thead>\n",
       "  <tbody>\n",
       "    <tr>\n",
       "      <th>16288</th>\n",
       "      <td>74.219.222.38</td>\n",
       "      <td>Canton</td>\n",
       "      <td>United States</td>\n",
       "      <td>-81.4396</td>\n",
       "      <td>40.8996</td>\n",
       "      <td>Ohio</td>\n",
       "    </tr>\n",
       "    <tr>\n",
       "      <th>53680</th>\n",
       "      <td>2601:644:8103:8FC0:EDB7:B58:18F3:6314</td>\n",
       "      <td>Pleasanton</td>\n",
       "      <td>United States</td>\n",
       "      <td>-121.9374</td>\n",
       "      <td>37.6704</td>\n",
       "      <td>California</td>\n",
       "    </tr>\n",
       "    <tr>\n",
       "      <th>12212</th>\n",
       "      <td>74.211.95.1</td>\n",
       "      <td>Washington</td>\n",
       "      <td>United States</td>\n",
       "      <td>-113.4850</td>\n",
       "      <td>37.2262</td>\n",
       "      <td>Utah</td>\n",
       "    </tr>\n",
       "    <tr>\n",
       "      <th>58457</th>\n",
       "      <td>203.104.11.21</td>\n",
       "      <td>Brisbane</td>\n",
       "      <td>Australia</td>\n",
       "      <td>153.0947</td>\n",
       "      <td>-27.4724</td>\n",
       "      <td>Queensland</td>\n",
       "    </tr>\n",
       "  </tbody>\n",
       "</table>\n",
       "</div>"
      ],
      "text/plain": [
       "                                        user        city   country_name  \\\n",
       "16288                          74.219.222.38      Canton  United States   \n",
       "53680  2601:644:8103:8FC0:EDB7:B58:18F3:6314  Pleasanton  United States   \n",
       "12212                            74.211.95.1  Washington  United States   \n",
       "58457                          203.104.11.21    Brisbane      Australia   \n",
       "\n",
       "       longitude  latitude region_name  \n",
       "16288   -81.4396   40.8996        Ohio  \n",
       "53680  -121.9374   37.6704  California  \n",
       "12212  -113.4850   37.2262        Utah  \n",
       "58457   153.0947  -27.4724  Queensland  "
      ]
     },
     "execution_count": 7,
     "metadata": {},
     "output_type": "execute_result"
    }
   ],
   "source": [
    "#select some sample data with geo_ip information\n",
    "some_columns = ['user', 'city', 'country_name', 'longitude', 'latitude', 'region_name']\n",
    "# if the 'city' is not null, neither are the others\n",
    "not_null_location = wikivents_df['city'].notnull()\n",
    "wikivents_df[not_null_location].sample(n=4)[some_columns]"
   ]
  },
  {
   "cell_type": "markdown",
   "metadata": {},
   "source": [
    "# The art of Data Science"
   ]
  },
  {
   "cell_type": "markdown",
   "metadata": {},
   "source": [
    "Here we will try extract some knowledge from our data."
   ]
  },
  {
   "cell_type": "markdown",
   "metadata": {},
   "source": [
    "## Feature Analysis"
   ]
  },
  {
   "cell_type": "markdown",
   "metadata": {},
   "source": [
    "### Action"
   ]
  },
  {
   "cell_type": "code",
   "execution_count": 8,
   "metadata": {},
   "outputs": [
    {
     "data": {
      "text/plain": [
       "edit         69321\n",
       "hit           3343\n",
       "create        1994\n",
       "delete         532\n",
       "thank          427\n",
       "block          389\n",
       "move           319\n",
       "patrol         205\n",
       "overwrite      182\n",
       "reviewed        90\n",
       "Name: action, dtype: int64"
      ]
     },
     "execution_count": 8,
     "metadata": {},
     "output_type": "execute_result"
    }
   ],
   "source": [
    "wikivents_df[\"action\"].value_counts()[:10]"
   ]
  },
  {
   "cell_type": "markdown",
   "metadata": {},
   "source": [
    "Most of the collected events are **edits** in Wikipedia objects that already exist."
   ]
  },
  {
   "cell_type": "markdown",
   "metadata": {},
   "source": [
    "### Change_size"
   ]
  },
  {
   "cell_type": "code",
   "execution_count": 9,
   "metadata": {},
   "outputs": [
    {
     "data": {
      "text/plain": [
       "count     69321.000000\n",
       "mean        217.803609\n",
       "std        4062.765972\n",
       "min     -207155.000000\n",
       "25%           0.000000\n",
       "50%          20.000000\n",
       "75%         156.000000\n",
       "max      256167.000000\n",
       "Name: change_size, dtype: float64"
      ]
     },
     "execution_count": 9,
     "metadata": {},
     "output_type": "execute_result"
    }
   ],
   "source": [
    "wikivents_df[\"change_size\"].describe()"
   ]
  },
  {
   "cell_type": "markdown",
   "metadata": {},
   "source": [
    "The changes are almost all around **zero** size."
   ]
  },
  {
   "cell_type": "code",
   "execution_count": 10,
   "metadata": {
    "collapsed": true
   },
   "outputs": [],
   "source": [
    "null_sizes = wikivents_df[wikivents_df[\"change_size\"].isnull()]"
   ]
  },
  {
   "cell_type": "code",
   "execution_count": 11,
   "metadata": {},
   "outputs": [
    {
     "data": {
      "text/html": [
       "<div>\n",
       "<table border=\"1\" class=\"dataframe\">\n",
       "  <thead>\n",
       "    <tr style=\"text-align: right;\">\n",
       "      <th></th>\n",
       "      <th>null_actions</th>\n",
       "      <th>action_count</th>\n",
       "    </tr>\n",
       "  </thead>\n",
       "  <tbody>\n",
       "    <tr>\n",
       "      <th>edit</th>\n",
       "      <td>NaN</td>\n",
       "      <td>69321</td>\n",
       "    </tr>\n",
       "  </tbody>\n",
       "</table>\n",
       "</div>"
      ],
      "text/plain": [
       "      null_actions  action_count\n",
       "edit           NaN         69321"
      ]
     },
     "execution_count": 11,
     "metadata": {},
     "output_type": "execute_result"
    }
   ],
   "source": [
    "df = pd.concat([null_sizes[\"action\"].rename(\"null_actions\").value_counts(), \n",
    "           wikivents_df[\"action\"].rename(\"action_count\").value_counts()], axis = 1)\n",
    "df[df['null_actions'].isnull()]"
   ]
  },
  {
   "cell_type": "markdown",
   "metadata": {},
   "source": [
    "*change_size* is only filled when the event is an edition and an only edition event has a *change_size*."
   ]
  },
  {
   "cell_type": "markdown",
   "metadata": {},
   "source": [
    "### Flags"
   ]
  },
  {
   "cell_type": "code",
   "execution_count": 12,
   "metadata": {},
   "outputs": [
    {
     "data": {
      "text/plain": [
       "NaN    51851\n",
       "M      11293\n",
       "B       8264\n",
       "MB      2570\n",
       "N       1652\n",
       "!N      1483\n",
       "NB       106\n",
       "Name: flags, dtype: int64"
      ]
     },
     "execution_count": 12,
     "metadata": {},
     "output_type": "execute_result"
    }
   ],
   "source": [
    "wikivents_df[\"flags\"].value_counts(dropna = False)"
   ]
  },
  {
   "cell_type": "markdown",
   "metadata": {},
   "source": [
    "Most of the flags are null. The ones that are not null are *minor* (M) and *bot* (B)."
   ]
  },
  {
   "cell_type": "code",
   "execution_count": 13,
   "metadata": {},
   "outputs": [
    {
     "data": {
      "text/html": [
       "<div>\n",
       "<table border=\"1\" class=\"dataframe\">\n",
       "  <thead>\n",
       "    <tr style=\"text-align: right;\">\n",
       "      <th></th>\n",
       "      <th>non_null_actions</th>\n",
       "      <th>action_count</th>\n",
       "    </tr>\n",
       "  </thead>\n",
       "  <tbody>\n",
       "    <tr>\n",
       "      <th>edit</th>\n",
       "      <td>25368.0</td>\n",
       "      <td>69321</td>\n",
       "    </tr>\n",
       "  </tbody>\n",
       "</table>\n",
       "</div>"
      ],
      "text/plain": [
       "      non_null_actions  action_count\n",
       "edit           25368.0         69321"
      ]
     },
     "execution_count": 13,
     "metadata": {},
     "output_type": "execute_result"
    }
   ],
   "source": [
    "not_null_flags_df = wikivents_df[wikivents_df[\"flags\"].notnull()]\n",
    "df = pd.concat([not_null_flags_df[\"action\"].rename(\"non_null_actions\").value_counts(),\n",
    "           wikivents_df[\"action\"].rename(\"action_count\").value_counts()], axis = 1)\n",
    "df[df['non_null_actions'].notnull()]"
   ]
  },
  {
   "cell_type": "markdown",
   "metadata": {},
   "source": [
    "All the **non-null flags are edits**."
   ]
  },
  {
   "cell_type": "code",
   "execution_count": 14,
   "metadata": {},
   "outputs": [
    {
     "name": "stdout",
     "output_type": "stream",
     "text": [
      "--------------------------------------------------\n",
      "True    1652\n",
      "Name: is_new, dtype: int64\n",
      "--------------------------------------------------\n",
      "True    106\n",
      "Name: is_new, dtype: int64\n",
      "--------------------------------------------------\n",
      "True    1483\n",
      "Name: is_new, dtype: int64\n",
      "--------------------------------------------------\n"
     ]
    }
   ],
   "source": [
    "print \"-\"*50\n",
    "print wikivents_df[wikivents_df[\"flags\"] == \"N\"][\"is_new\"].value_counts()\n",
    "print \"-\"*50\n",
    "print wikivents_df[wikivents_df[\"flags\"] == \"NB\"][\"is_new\"].value_counts()\n",
    "print \"-\"*50\n",
    "print wikivents_df[wikivents_df[\"flags\"] == \"!N\"][\"is_new\"].value_counts()\n",
    "print \"-\"*50"
   ]
  },
  {
   "cell_type": "markdown",
   "metadata": {},
   "source": [
    "The events with flagged *N*, *NB* and *!N* are new events (*is_new* is True)."
   ]
  },
  {
   "cell_type": "code",
   "execution_count": 15,
   "metadata": {},
   "outputs": [
    {
     "name": "stdout",
     "output_type": "stream",
     "text": [
      "--------------------------------------------------\n",
      "True    11293\n",
      "Name: is_minor, dtype: int64\n",
      "--------------------------------------------------\n",
      "True    2570\n",
      "Name: is_minor, dtype: int64\n",
      "--------------------------------------------------\n"
     ]
    }
   ],
   "source": [
    "print \"-\"*50\n",
    "print wikivents_df[wikivents_df[\"flags\"] == \"M\"][\"is_minor\"].value_counts()\n",
    "print \"-\"*50\n",
    "print wikivents_df[wikivents_df[\"flags\"] == \"MB\"][\"is_minor\"].value_counts()\n",
    "print \"-\"*50"
   ]
  },
  {
   "cell_type": "markdown",
   "metadata": {},
   "source": [
    "The events with flagged *M* and *MB* are new events (*is_minor* is True)."
   ]
  },
  {
   "cell_type": "markdown",
   "metadata": {},
   "source": [
    "### Hashtags\n",
    "Hashtags are lists."
   ]
  },
  {
   "cell_type": "code",
   "execution_count": 16,
   "metadata": {},
   "outputs": [
    {
     "data": {
      "text/plain": [
       "0    71833\n",
       "1     5376\n",
       "2        9\n",
       "4        1\n",
       "Name: hashtags, dtype: int64"
      ]
     },
     "execution_count": 16,
     "metadata": {},
     "output_type": "execute_result"
    }
   ],
   "source": [
    "hashtags_length = wikivents_df[\"hashtags\"].apply(lambda x: len(x))\n",
    "hashtags_length.value_counts()"
   ]
  },
  {
   "cell_type": "code",
   "execution_count": 20,
   "metadata": {},
   "outputs": [
    {
     "data": {
      "text/plain": [
       "edit       5384\n",
       "byemail       1\n",
       "upload        1\n",
       "Name: action, dtype: int64"
      ]
     },
     "execution_count": 20,
     "metadata": {},
     "output_type": "execute_result"
    }
   ],
   "source": [
    "wikivents_df[hashtags_length > 0][\"action\"].value_counts()"
   ]
  },
  {
   "cell_type": "markdown",
   "metadata": {},
   "source": [
    "Most of the events do not have hashtags."
   ]
  },
  {
   "cell_type": "markdown",
   "metadata": {},
   "source": [
    "### is_bot\n",
    "\n",
    "From the hashtags, we could see that the hashtag *IABot* exists if a bot edits"
   ]
  },
  {
   "cell_type": "code",
   "execution_count": 21,
   "metadata": {},
   "outputs": [
    {
     "data": {
      "text/plain": [
       "False    66279\n",
       "True     10940\n",
       "Name: is_bot, dtype: int64"
      ]
     },
     "execution_count": 21,
     "metadata": {},
     "output_type": "execute_result"
    }
   ],
   "source": [
    "wikivents_df[\"is_bot\"].value_counts()"
   ]
  },
  {
   "cell_type": "code",
   "execution_count": 22,
   "metadata": {},
   "outputs": [
    {
     "data": {
      "text/plain": [
       "True     4849\n",
       "False      28\n",
       "Name: is_bot, dtype: int64"
      ]
     },
     "execution_count": 22,
     "metadata": {},
     "output_type": "execute_result"
    }
   ],
   "source": [
    "wikivents_df[wikivents_df[\"hashtags\"].apply(lambda x: x == [\"IABot\"])][\"is_bot\"].value_counts()"
   ]
  },
  {
   "cell_type": "code",
   "execution_count": 23,
   "metadata": {},
   "outputs": [
    {
     "data": {
      "text/plain": [
       "B    4849\n",
       "Name: flags, dtype: int64"
      ]
     },
     "execution_count": 23,
     "metadata": {},
     "output_type": "execute_result"
    }
   ],
   "source": [
    "wikivents_df[wikivents_df[\"hashtags\"].apply(lambda x: x == [\"IABot\"])][\"flags\"].value_counts()"
   ]
  },
  {
   "cell_type": "markdown",
   "metadata": {},
   "source": [
    "*IABot* has flags = *B*. But not the other way around."
   ]
  },
  {
   "cell_type": "code",
   "execution_count": 24,
   "metadata": {},
   "outputs": [
    {
     "data": {
      "text/html": [
       "<div>\n",
       "<table border=\"1\" class=\"dataframe\">\n",
       "  <thead>\n",
       "    <tr style=\"text-align: right;\">\n",
       "      <th></th>\n",
       "      <th>hashtags</th>\n",
       "      <th>is_bot</th>\n",
       "    </tr>\n",
       "  </thead>\n",
       "  <tbody>\n",
       "    <tr>\n",
       "      <th>15339</th>\n",
       "      <td>[]</td>\n",
       "      <td>True</td>\n",
       "    </tr>\n",
       "    <tr>\n",
       "      <th>3966</th>\n",
       "      <td>[IABot]</td>\n",
       "      <td>True</td>\n",
       "    </tr>\n",
       "    <tr>\n",
       "      <th>45784</th>\n",
       "      <td>[]</td>\n",
       "      <td>True</td>\n",
       "    </tr>\n",
       "    <tr>\n",
       "      <th>40221</th>\n",
       "      <td>[]</td>\n",
       "      <td>True</td>\n",
       "    </tr>\n",
       "    <tr>\n",
       "      <th>46997</th>\n",
       "      <td>[]</td>\n",
       "      <td>True</td>\n",
       "    </tr>\n",
       "    <tr>\n",
       "      <th>40585</th>\n",
       "      <td>[IABot]</td>\n",
       "      <td>True</td>\n",
       "    </tr>\n",
       "  </tbody>\n",
       "</table>\n",
       "</div>"
      ],
      "text/plain": [
       "      hashtags is_bot\n",
       "15339       []   True\n",
       "3966   [IABot]   True\n",
       "45784       []   True\n",
       "40221       []   True\n",
       "46997       []   True\n",
       "40585  [IABot]   True"
      ]
     },
     "execution_count": 24,
     "metadata": {},
     "output_type": "execute_result"
    }
   ],
   "source": [
    "wikivents_df_flags_B = wikivents_df[wikivents_df[\"flags\"] == \"B\"]\n",
    "wikivents_df_flags_B.sample(n=6)[['hashtags', 'is_bot']]"
   ]
  },
  {
   "cell_type": "code",
   "execution_count": 25,
   "metadata": {},
   "outputs": [
    {
     "data": {
      "text/plain": [
       "1    4849\n",
       "0    3415\n",
       "Name: hashtags, dtype: int64"
      ]
     },
     "execution_count": 25,
     "metadata": {},
     "output_type": "execute_result"
    }
   ],
   "source": [
    "wikivents_df_flags_B[\"hashtags\"].apply(lambda x: len(x)).value_counts()"
   ]
  },
  {
   "cell_type": "markdown",
   "metadata": {},
   "source": [
    "There are *B* flags without hashtags"
   ]
  },
  {
   "cell_type": "code",
   "execution_count": 26,
   "metadata": {},
   "outputs": [
    {
     "data": {
      "text/plain": [
       "False    10940\n",
       "Name: is_unpatrolled, dtype: int64"
      ]
     },
     "execution_count": 26,
     "metadata": {},
     "output_type": "execute_result"
    }
   ],
   "source": [
    "wikivents_df[wikivents_df[\"is_bot\"] == True][\"is_unpatrolled\"].value_counts()"
   ]
  },
  {
   "cell_type": "markdown",
   "metadata": {},
   "source": [
    "Bots are always patrolled (makes sense), assuming the *patrolled* mean that the event was somehow supervised."
   ]
  },
  {
   "cell_type": "markdown",
   "metadata": {},
   "source": [
    "### is_anon"
   ]
  },
  {
   "cell_type": "markdown",
   "metadata": {},
   "source": [
    "Feature to flag if the event was made by an anonymous entity."
   ]
  },
  {
   "cell_type": "code",
   "execution_count": 27,
   "metadata": {},
   "outputs": [
    {
     "data": {
      "text/plain": [
       "False    63356\n",
       "True     13863\n",
       "Name: is_anon, dtype: int64"
      ]
     },
     "execution_count": 27,
     "metadata": {},
     "output_type": "execute_result"
    }
   ],
   "source": [
    "wikivents_df[\"is_anon\"].value_counts()"
   ]
  },
  {
   "cell_type": "code",
   "execution_count": 28,
   "metadata": {},
   "outputs": [
    {
     "data": {
      "text/html": [
       "<div>\n",
       "<table border=\"1\" class=\"dataframe\">\n",
       "  <thead>\n",
       "    <tr style=\"text-align: right;\">\n",
       "      <th></th>\n",
       "      <th>user</th>\n",
       "      <th>is_bot</th>\n",
       "      <th>flags</th>\n",
       "      <th>country_name</th>\n",
       "    </tr>\n",
       "  </thead>\n",
       "  <tbody>\n",
       "    <tr>\n",
       "      <th>count</th>\n",
       "      <td>13863</td>\n",
       "      <td>13863</td>\n",
       "      <td>33</td>\n",
       "      <td>13852</td>\n",
       "    </tr>\n",
       "    <tr>\n",
       "      <th>unique</th>\n",
       "      <td>6005</td>\n",
       "      <td>1</td>\n",
       "      <td>1</td>\n",
       "      <td>119</td>\n",
       "    </tr>\n",
       "    <tr>\n",
       "      <th>top</th>\n",
       "      <td>86.173.191.67</td>\n",
       "      <td>False</td>\n",
       "      <td>!N</td>\n",
       "      <td>United States</td>\n",
       "    </tr>\n",
       "    <tr>\n",
       "      <th>freq</th>\n",
       "      <td>70</td>\n",
       "      <td>13863</td>\n",
       "      <td>33</td>\n",
       "      <td>8237</td>\n",
       "    </tr>\n",
       "  </tbody>\n",
       "</table>\n",
       "</div>"
      ],
      "text/plain": [
       "                 user is_bot flags   country_name\n",
       "count           13863  13863    33          13852\n",
       "unique           6005      1     1            119\n",
       "top     86.173.191.67  False    !N  United States\n",
       "freq               70  13863    33           8237"
      ]
     },
     "execution_count": 28,
     "metadata": {},
     "output_type": "execute_result"
    }
   ],
   "source": [
    "some_columns = ['user','is_bot', 'flags','country_name']\n",
    "wikivents_df[wikivents_df[\"is_anon\"]][some_columns].describe()"
   ]
  },
  {
   "cell_type": "markdown",
   "metadata": {},
   "source": [
    "The anonymous activity does not have a username and are never bots."
   ]
  },
  {
   "cell_type": "markdown",
   "metadata": {},
   "source": [
    "### is_unpatrolled"
   ]
  },
  {
   "cell_type": "code",
   "execution_count": 29,
   "metadata": {},
   "outputs": [
    {
     "data": {
      "text/plain": [
       "False    75736\n",
       "True      1483\n",
       "Name: is_unpatrolled, dtype: int64"
      ]
     },
     "execution_count": 29,
     "metadata": {},
     "output_type": "execute_result"
    }
   ],
   "source": [
    "wikivents_df[\"is_unpatrolled\"].value_counts()"
   ]
  },
  {
   "cell_type": "code",
   "execution_count": 30,
   "metadata": {},
   "outputs": [
    {
     "data": {
      "text/plain": [
       "!N    1483\n",
       "Name: flags, dtype: int64"
      ]
     },
     "execution_count": 30,
     "metadata": {},
     "output_type": "execute_result"
    }
   ],
   "source": [
    "wikivents_df[wikivents_df[\"is_unpatrolled\"]][\"flags\"].value_counts()"
   ]
  },
  {
   "cell_type": "markdown",
   "metadata": {},
   "source": [
    "Unpatrolled events always have the *!N* flag."
   ]
  },
  {
   "cell_type": "markdown",
   "metadata": {},
   "source": [
    "### ns"
   ]
  },
  {
   "cell_type": "code",
   "execution_count": 31,
   "metadata": {},
   "outputs": [
    {
     "data": {
      "text/plain": [
       "Main         47258\n",
       "Special       7898\n",
       "User          5685\n",
       "Talk          4824\n",
       "User talk     4193\n",
       "Name: ns, dtype: int64"
      ]
     },
     "execution_count": 31,
     "metadata": {},
     "output_type": "execute_result"
    }
   ],
   "source": [
    "wikivents_df[\"ns\"].value_counts()[:5]"
   ]
  },
  {
   "cell_type": "markdown",
   "metadata": {},
   "source": [
    "---"
   ]
  },
  {
   "cell_type": "markdown",
   "metadata": {},
   "source": [
    "From this point on, we will just focus on **edition events** since they are the most representative. Let's analyse what kind of things the editors are doing, mainly the **change size**."
   ]
  },
  {
   "cell_type": "code",
   "execution_count": 32,
   "metadata": {
    "collapsed": true
   },
   "outputs": [],
   "source": [
    "wikivents_edits_df = wikivents_df[wikivents_df[\"action\"] == \"edit\"]"
   ]
  },
  {
   "cell_type": "markdown",
   "metadata": {},
   "source": [
    "## Exploratory Data Analysis"
   ]
  },
  {
   "cell_type": "markdown",
   "metadata": {},
   "source": [
    "### Countries and cities with highest number of events"
   ]
  },
  {
   "cell_type": "code",
   "execution_count": 33,
   "metadata": {},
   "outputs": [
    {
     "data": {
      "text/plain": [
       "<matplotlib.text.Text at 0x11be47790>"
      ]
     },
     "execution_count": 33,
     "metadata": {},
     "output_type": "execute_result"
    },
    {
     "data": {
      "image/png": "[encoded data removed]",
      "text/plain": [
       "<matplotlib.figure.Figure at 0x11bb2fc50>"
      ]
     },
     "metadata": {},
     "output_type": "display_data"
    }
   ],
   "source": [
    "fig, (ax1, ax2) = plt.subplots(ncols=2, figsize=(18,10))\n",
    "\n",
    "n_highest = 10\n",
    "\n",
    "# graphic with the cities\n",
    "df1 = wikivents_edits_df[\"city\"].value_counts()\n",
    "city_order = df1.index[:n_highest]\n",
    "g1 = sns.countplot(y = \"city\", order = city_order, data = wikivents_edits_df, ax=ax1)\n",
    "g1.set_ylabel(\"City\")\n",
    "g1.set_xlabel(\"Number of Events\")\n",
    "\n",
    "# graphic with the countries\n",
    "df2 = wikivents_edits_df[\"country_name\"].value_counts()\n",
    "country_order = df2.index[:n_highest]\n",
    "g2 = sns.countplot(y = \"country_name\", order = country_order,\n",
    "                   data = wikivents_edits_df, ax=ax2)\n",
    "g2.set_ylabel(\"Country\")\n",
    "g2.set_xlabel(\"Number of Events\")"
   ]
  },
  {
   "cell_type": "markdown",
   "metadata": {},
   "source": [
    "We check that London is the city with the most Wikipedia events and the USA are the country with the most Wikipedia events.\n",
    "\n",
    "From the cities with more events, most of them are from the USA."
   ]
  },
  {
   "cell_type": "markdown",
   "metadata": {},
   "source": [
    "### Countries with the highest average change size"
   ]
  },
  {
   "cell_type": "code",
   "execution_count": 34,
   "metadata": {},
   "outputs": [
    {
     "data": {
      "text/plain": [
       "<seaborn.axisgrid.FacetGrid at 0x11c1c5790>"
      ]
     },
     "execution_count": 34,
     "metadata": {},
     "output_type": "execute_result"
    },
    {
     "data": {
      "image/png": "[encoded data removed]",
      "text/plain": [
       "<matplotlib.figure.Figure at 0x1199d5910>"
      ]
     },
     "metadata": {},
     "output_type": "display_data"
    }
   ],
   "source": [
    "n_highest = 10\n",
    "\n",
    "dict = {\"change_size\":np.mean}\n",
    "\n",
    "# get the data\n",
    "grouped = wikivents_edits_df.groupby([\"country_name\"])\n",
    "df1 = grouped.agg(dict).sort_values([\"change_size\"],\n",
    "                                    ascending = False)[:n_highest]\n",
    "df1[\"country_name\"] = df1.index\n",
    "\n",
    "# plot the data\n",
    "g1 = sns.factorplot(y = \"country_name\", x = \"change_size\",\n",
    "                    data = df1, kind=\"bar\", aspect=2, size=6)\n",
    "g1.set_ylabels(\"Country\")\n",
    "g1.set_xlabels(\"Average Change Size\")"
   ]
  },
  {
   "cell_type": "markdown",
   "metadata": {},
   "source": [
    "Although, when it comes to change size, Mexico is actually the country with the most change size per event in average.\n",
    "\n",
    "So, even if the USA is the country with more events, the change size per event is low. In Mexico, the number of events is low but the change size is high per event."
   ]
  },
  {
   "cell_type": "markdown",
   "metadata": {},
   "source": [
    "### Cities with the highest average change size"
   ]
  },
  {
   "cell_type": "code",
   "execution_count": 35,
   "metadata": {},
   "outputs": [
    {
     "data": {
      "text/plain": [
       "<seaborn.axisgrid.FacetGrid at 0x11c4af5d0>"
      ]
     },
     "execution_count": 35,
     "metadata": {},
     "output_type": "execute_result"
    },
    {
     "data": {
      "image/png": "[encoded data removed]",
      "text/plain": [
       "<matplotlib.figure.Figure at 0x11c9c40d0>"
      ]
     },
     "metadata": {},
     "output_type": "display_data"
    }
   ],
   "source": [
    "n_highest = 10\n",
    "\n",
    "dict = {\"change_size\":np.mean}\n",
    "\n",
    "# get the data\n",
    "grouped = wikivents_edits_df.groupby([\"city\",\"country_name\"])\n",
    "df = grouped.agg(dict).sort_values([\"change_size\"],\n",
    "                                   ascending = False)[:n_highest]\n",
    "df[\"city_and_country\"] = map(lambda (city, country): city + \" / \" + country,\n",
    "                             df.index)\n",
    "\n",
    "# plot the data\n",
    "g = sns.factorplot(y = \"city_and_country\", x = \"change_size\",\n",
    "                   data = df, kind=\"bar\", aspect=2, size=6)\n",
    "g.set_ylabels(\"City\")\n",
    "g.set_xlabels(\"Average Change Size\")"
   ]
  },
  {
   "cell_type": "markdown",
   "metadata": {},
   "source": [
    "Mexicali in Mexico is the city where change sizes are higher per event although most of the cities are from USA."
   ]
  },
  {
   "cell_type": "markdown",
   "metadata": {},
   "source": [
    "### Most edited pages (average)"
   ]
  },
  {
   "cell_type": "code",
   "execution_count": 36,
   "metadata": {},
   "outputs": [
    {
     "data": {
      "text/plain": [
       "<matplotlib.text.Text at 0x11cfa9b90>"
      ]
     },
     "execution_count": 36,
     "metadata": {},
     "output_type": "execute_result"
    },
    {
     "data": {
      "image/png": "[encoded data removed]",
      "text/plain": [
       "<matplotlib.figure.Figure at 0x11c4af510>"
      ]
     },
     "metadata": {},
     "output_type": "display_data"
    }
   ],
   "source": [
    "plt.figure(figsize=(9,8))\n",
    "\n",
    "n_highest = 10\n",
    "\n",
    "df = wikivents_edits_df[\"page_title\"].value_counts()\n",
    "page_order = df.index[:n_highest]\n",
    "g = sns.countplot(y = \"page_title\", data = wikivents_edits_df, order = page_order)\n",
    "g.set_ylabel(\"Page Title\")\n",
    "g.set_xlabel(\"Number of Editions\")"
   ]
  },
  {
   "cell_type": "markdown",
   "metadata": {},
   "source": [
    "The most edited page is a user page with more than 200 editions. There are just three main pages in the top 10: *2017 NFL Draft*, *Nguyēn Xuân Phüc*, and *List of video game publishers*."
   ]
  },
  {
   "cell_type": "markdown",
   "metadata": {},
   "source": [
    "### Most active users (number of events)"
   ]
  },
  {
   "cell_type": "code",
   "execution_count": 47,
   "metadata": {},
   "outputs": [
    {
     "data": {
      "image/png": "[encoded data removed]",
      "text/plain": [
       "<matplotlib.figure.Figure at 0x11fc79a10>"
      ]
     },
     "metadata": {},
     "output_type": "display_data"
    }
   ],
   "source": [
    "plt.figure(figsize=(9,8))\n",
    "n_highest = 10\n",
    "\n",
    "# indexes of the users sorted by number of events\n",
    "user_order = wikivents_edits_df[\"user\"].value_counts().index[:n_highest]\n",
    "\n",
    "# plot with the \"is bot\"'s\n",
    "## select the respective data\n",
    "is_bot = wikivents_edits_df[\"is_bot\"]\n",
    "is_bot_sorted = wikivents_edits_df[is_bot][\"user\"].value_counts().loc[user_order]\n",
    "## plot the data\n",
    "g1 = sns.barplot(y = is_bot_sorted.index, x = is_bot_sorted, color=\"red\")\n",
    "g1_legend = plt.Rectangle((0,0),1,1,fc=\"red\", edgecolor = 'none')\n",
    "\n",
    "# plot with the non \"is bot\"'s\n",
    "## select the respective data\n",
    "is_not_bot = wikivents_edits_df[\"is_bot\"]==False\n",
    "is_not_bot_sorted = wikivents_edits_df[is_not_bot][\"user\"].value_counts().loc[user_order]\n",
    "## plot the data\n",
    "g2 = sns.barplot(y = is_not_bot_sorted.index, x = is_not_bot_sorted, color=\"blue\")\n",
    "g2_legend = plt.Rectangle((0,0),1,1,fc='blue',  edgecolor = 'none')\n",
    "\n",
    "g2.set_ylabel(\"User\")\n",
    "g2.set_xlabel(\"Number of Events\")\n",
    "l = plt.legend([g1_legend, g2_legend], ['Is a bot?','Is not a bot?'],\n",
    "               loc=5, ncol = 1, prop={'size':11})\n",
    "sns.despine(left=True)"
   ]
  },
  {
   "cell_type": "markdown",
   "metadata": {},
   "source": [
    "The most active user is a bot which looks like some kind of *archive bot*."
   ]
  },
  {
   "cell_type": "markdown",
   "metadata": {},
   "source": [
    "### Most active users (average change per event)"
   ]
  },
  {
   "cell_type": "code",
   "execution_count": 38,
   "metadata": {},
   "outputs": [
    {
     "data": {
      "text/plain": [
       "<seaborn.axisgrid.FacetGrid at 0x11c995810>"
      ]
     },
     "execution_count": 38,
     "metadata": {},
     "output_type": "execute_result"
    },
    {
     "data": {
      "image/png": "[encoded data removed]",
      "text/plain": [
       "<matplotlib.figure.Figure at 0x11cf48710>"
      ]
     },
     "metadata": {},
     "output_type": "display_data"
    }
   ],
   "source": [
    "n_highest = 10\n",
    "\n",
    "dict = {\"change_size\":np.mean}\n",
    "\n",
    "# get the data\n",
    "grouped = wikivents_edits_df.groupby([\"user\"])\n",
    "average_change_size_by_user = grouped.agg(dict).sort_values([\"change_size\"]\n",
    "                                                            ,ascending = False)[:n_highest]\n",
    "average_change_size_by_user[\"user\"] = average_change_size_by_user.index\n",
    "\n",
    "# plot the data\n",
    "g = sns.factorplot(y = \"user\", x = \"change_size\",\n",
    "                   data = average_change_size_by_user,\n",
    "                   kind=\"bar\", aspect=2, size=6)\n",
    "g.set_ylabels(\"User\")\n",
    "g.set_xlabels(\"Average Change Size\")"
   ]
  },
  {
   "cell_type": "markdown",
   "metadata": {},
   "source": [
    "Non-anonymous users are responsible for higher chance sizes per event in average."
   ]
  },
  {
   "cell_type": "markdown",
   "metadata": {},
   "source": [
    "## Let's play a little..."
   ]
  },
  {
   "cell_type": "markdown",
   "metadata": {},
   "source": [
    "Let's grab the summary of the editions and check what a Word2Vec model trained with these texts would be..."
   ]
  },
  {
   "cell_type": "markdown",
   "metadata": {},
   "source": [
    "First, let's make some basic NLP processing in the summary text."
   ]
  },
  {
   "cell_type": "code",
   "execution_count": 39,
   "metadata": {
    "collapsed": true
   },
   "outputs": [],
   "source": [
    "# pattern to remove everything that is not words and whitespaces\n",
    "pattern = re.compile(r\"[^a-zA-Z\\s]*\")\n",
    "\n",
    "# select only non null summaries\n",
    "df = wikivents_edits_df[wikivents_edits_df[\"summary\"].notnull()][\"summary\"]\n",
    "sentences = map(lambda record: pattern.sub(lambda match: \"\", record), df.values)"
   ]
  },
  {
   "cell_type": "code",
   "execution_count": 40,
   "metadata": {},
   "outputs": [
    {
     "name": "stdout",
     "output_type": "stream",
     "text": [
      "Our training data has 57493 sentences.\n"
     ]
    }
   ],
   "source": [
    "training_sentences = []\n",
    "\n",
    "# lower case and split the sentences\n",
    "for sentence in sentences:\n",
    "    training_sentences.append(sentence.lower().split())\n",
    "    \n",
    "print \"Our training data has {} sentences.\".format(len(training_sentences))"
   ]
  },
  {
   "cell_type": "markdown",
   "metadata": {},
   "source": [
    "Train the model. We must be aware that such a complex model needs a lot of data for training and some iterations which is not the case. This is just an ilustration of an interesting approach."
   ]
  },
  {
   "cell_type": "code",
   "execution_count": null,
   "metadata": {
    "collapsed": true
   },
   "outputs": [],
   "source": [
    "# we are just training to generate features of size two (which is very low)\n",
    "# but this is just because of time restrictions\n",
    "\n",
    "# model = gensim.models.Word2Vec(training, size=2, window=6, min_count=5)\n",
    "# model.save(\"model_example.model\")"
   ]
  },
  {
   "cell_type": "markdown",
   "metadata": {},
   "source": [
    "**note**: the model was previously trained (with the parameters below) and locally saved to reuse."
   ]
  },
  {
   "cell_type": "code",
   "execution_count": 41,
   "metadata": {
    "collapsed": true
   },
   "outputs": [],
   "source": [
    "model = gensim.models.Word2Vec.load(\"model_example.model\")"
   ]
  },
  {
   "cell_type": "code",
   "execution_count": 42,
   "metadata": {
    "collapsed": true
   },
   "outputs": [],
   "source": [
    "def collect_word_vecs(model):\n",
    "    for word in model.wv.vocab.keys():\n",
    "        yield model.wv[word]\n",
    "        \n",
    "def collect_vocabulary_words(model):\n",
    "    for word in model.wv.vocab.keys():\n",
    "        yield word\n",
    "\n",
    "word_vecs = list(collect_word_vecs(model))\n",
    "\n",
    "words = list(collect_vocabulary_words(model))"
   ]
  },
  {
   "cell_type": "code",
   "execution_count": 43,
   "metadata": {},
   "outputs": [
    {
     "data": {
      "text/plain": [
       "[(u'restoration', 0.9999997019767761),\n",
       " (u'coast', 0.9999996423721313),\n",
       " (u'issue', 0.9999996423721313),\n",
       " (u'festivals', 0.9999996423721313),\n",
       " (u'shift', 0.9999995827674866),\n",
       " (u'make', 0.9999994039535522),\n",
       " (u'navy', 0.9999994039535522),\n",
       " (u'wpnpov', 0.9999992847442627),\n",
       " (u'wikilove', 0.9999985694885254),\n",
       " (u'advert', 0.9999985098838806)]"
      ]
     },
     "execution_count": 43,
     "metadata": {},
     "output_type": "execute_result"
    }
   ],
   "source": [
    "model.wv.most_similar(\"portugal\")"
   ]
  },
  {
   "cell_type": "markdown",
   "metadata": {},
   "source": [
    "For some reason, the models thinks that *portugal* is near *festivals*, *restoration* and *coast* which is somehow interesting because Portugal is in the west edge of Europe, is famous for its restoration and for its music festivals."
   ]
  },
  {
   "cell_type": "markdown",
   "metadata": {},
   "source": [
    "Let's see the word representation of some of these words."
   ]
  },
  {
   "cell_type": "code",
   "execution_count": 46,
   "metadata": {},
   "outputs": [
    {
     "data": {
      "image/png": "[encoded data removed]",
      "text/plain": [
       "<matplotlib.figure.Figure at 0x11fcfac50>"
      ]
     },
     "metadata": {},
     "output_type": "display_data"
    }
   ],
   "source": [
    "# some words taken from the dictionary (variable 'words')\n",
    "some_words = [\"talkthe\",\"specialcontributionsjax\",\"categoryyouth\",\n",
    "              \"categoryosmania\",\"don\",\"slang\",\"pt\",\"host\",\"blog\",\"autumn\",\n",
    "             \"categorylists\",\"sourcing\",\"hate\",\"provider\",\"saying\",\n",
    "             \"mode\",\"usermiftermifter\",\"repair\",\"international\",\"bio\"]\n",
    "indexes = [i for i in range(len(words)) if words[i] in some_words]\n",
    "\n",
    "# get the data\n",
    "x = map(lambda (x,y): x,word_vecs)\n",
    "y = map(lambda (x,y): y,word_vecs)\n",
    "x_sample = [x[i] for i in indexes]\n",
    "y_sample = [y[i] for i in indexes]\n",
    "\n",
    "# plot the data\n",
    "plt.figure(figsize=(15,10))\n",
    "plt.scatter(x_sample,y_sample,marker=\"o\")\n",
    "plt.title(\"Word space representations (sample)\", size = 20)\n",
    "\n",
    "# annotate the points with the word they are representing\n",
    "for i, w in enumerate([words[i] for i in indexes]):\n",
    "    plt.annotate(\n",
    "        w.decode('utf-8', 'ignore'),\n",
    "        xy = (x_sample[i], y_sample[i]), xytext = (3, 3),\n",
    "        textcoords = 'offset points', ha = 'left', va = 'top', fontsize = 15)"
   ]
  },
  {
   "cell_type": "markdown",
   "metadata": {},
   "source": [
    "We conclude that the model capture some word semantics and syntax. For instance, we have some notion about the proximity of the words according to our vocabulary. For instance, *categoryyouth* is near *categoryosmania*, probably because they have *category* in common. On the other side *bio* is far from *slang*. "
   ]
  }
 ],
 "metadata": {
  "anaconda-cloud": {},
  "kernelspec": {
   "display_name": "Python [conda env:ipykernel_py27]",
   "language": "python",
   "name": "conda-env-ipykernel_py27-py"
  },
  "language_info": {
   "codemirror_mode": {
    "name": "ipython",
    "version": 2
   },
   "file_extension": ".py",
   "mimetype": "text/x-python",
   "name": "python",
   "nbconvert_exporter": "python",
   "pygments_lexer": "ipython2",
   "version": "2.7.13"
  }
 },
 "nbformat": 4,
 "nbformat_minor": 1
}
